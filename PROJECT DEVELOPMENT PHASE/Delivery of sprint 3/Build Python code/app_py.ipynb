{
  "nbformat": 4,
  "nbformat_minor": 0,
  "metadata": {
    "colab": {
      "provenance": []
    },
    "kernelspec": {
      "name": "python3",
      "display_name": "Python 3"
    },
    "language_info": {
      "name": "python"
    }
  },
  "cells": [
    {
      "cell_type": "code",
      "execution_count": null,
      "metadata": {
        "id": "Spr8-WZxGIoo"
      },
      "outputs": [],
      "source": [
        "import requests\n",
        "from tensorflow.keras.preprocessing import image\n",
        "from tensorflow.keras.models import load_model\n",
        "import numpy as np\n",
        "import pandas as pd\n",
        "import tensorflow as tf\n",
        "from flask import Flask, request, render_template, redirect, url_for\n",
        "import os \n",
        "from werkzeug.utils import secure_filename\n",
        "from tensorflow.python.keras.backend import set_session\n",
        "app = Flask(__name__)\n",
        "#load both the vegetable and fruit models\n",
        "model = load_model(\"vegetable.h5\")\n",
        "model = load_model(\"fruit.h5\")\n",
        "@app.route('/')\n",
        "def home():\n",
        "    return render_template('home.html')\n",
        "#prediction page\n",
        "@app.route('/prediction')\n",
        "def prediction():\n",
        "    return render_template('predict.html')\n",
        "@app.route('/predict',methods=['POST'])\n",
        "def predict():\n",
        "    if request.method == 'POST':\n",
        "        #Get the file from post request\n",
        "        f=request.files['image']\n",
        "        #save the file to ./uploads\n",
        "        basepath = os.path.dirname(__file__)\n",
        "        file_path = os.path.join(\n",
        "            basepath,'uploads',secure_filename(f.filename))\n",
        "        f.save(file_path)\n",
        "        img = image.load_img(file_path, target_size=(128,128))\n",
        "        x = image.img_to_array(img)\n",
        "        x=np.expand_dims(x, axis=0)\n",
        "        plant=request.form['plant']\n",
        "        print(plant)\n",
        "        if(plant==\"vegetable\"):\n",
        "            preds = model.predict_classes(x)\n",
        "            print(preds)\n",
        "            df=pd.read_excel('precaution - veg.xlxs')\n",
        "            print(df.iloc[pred[0]]['caution'])\n",
        "        else:\n",
        "            preds = model.predict_classes(x)\n",
        "            print(preds)\n",
        "            df=pd.read_excel('precaution - fruits.xlxs')\n",
        "        return print(df.iloc[pred[0]]['caution'])\n",
        "    if __name__ == \"__main__\":\n",
        "        app.run(debug=False)"
      ]
    }
  ]
}
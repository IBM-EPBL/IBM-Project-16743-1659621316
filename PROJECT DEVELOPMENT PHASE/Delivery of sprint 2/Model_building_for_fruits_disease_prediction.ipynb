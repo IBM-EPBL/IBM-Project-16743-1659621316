{
  "nbformat": 4,
  "nbformat_minor": 0,
  "metadata": {
    "colab": {
      "provenance": []
    },
    "kernelspec": {
      "name": "python3",
      "display_name": "Python 3"
    },
    "language_info": {
      "name": "python"
    }
  },
  "cells": [
    {
      "cell_type": "markdown",
      "source": [
        "**Team ID: IBM-PNT2022TMID32773**\n",
        "\n",
        "Project Name: Fertilizers Recommendation System for Disease Prediction"
      ],
      "metadata": {
        "id": "xmHfpKr0eBlQ"
      }
    },
    {
      "cell_type": "code",
      "source": [
        "from google.colab import drive\n",
        "drive.mount('/content/drive')"
      ],
      "metadata": {
        "id": "7cbHryWDeby1"
      },
      "execution_count": null,
      "outputs": []
    },
    {
      "cell_type": "code",
      "source": [
        "!unzip '/content/drive/MyDrive/Colab Notebooks/Dataset.zip'"
      ],
      "metadata": {
        "id": "23l2AX1MekEk"
      },
      "execution_count": null,
      "outputs": []
    },
    {
      "cell_type": "code",
      "source": [
        "from keras.preprocessing.image import ImageDataGenerator"
      ],
      "metadata": {
        "id": "aSFEvKkRelTx"
      },
      "execution_count": null,
      "outputs": []
    },
    {
      "cell_type": "code",
      "source": [
        "train_datagen = ImageDataGenerator(rescale = 1./255,shear_range = 0.2,zoom_range = 0.2,horizontal_flip = True)\n",
        "test_datagen =ImageDataGenerator(rescale = 1)"
      ],
      "metadata": {
        "id": "RJu3sUkAeptP"
      },
      "execution_count": null,
      "outputs": []
    },
    {
      "cell_type": "code",
      "source": [
        "x_train = train_datagen.flow_from_directory('/content/Dataset Plant Disease/fruit-dataset/fruit-dataset/train' ,\n",
        "                                            target_size = (128,128),batch_size = 32, class_mode = 'categorical')\n",
        "x_test = test_datagen.flow_from_directory('/content/Dataset Plant Disease/fruit-dataset/fruit-dataset/test' ,\n",
        "                                            target_size = (128,128),batch_size = 32, class_mode = 'categorical')"
      ],
      "metadata": {
        "id": "dPTixR8XetRn"
      },
      "execution_count": null,
      "outputs": []
    },
    {
      "cell_type": "markdown",
      "source": [
        "Found 5384 images belonging to 6 classes.\n",
        "\n",
        "Found 1686 images belonging to 6 classes."
      ],
      "metadata": {
        "id": "29z28aN6fBa6"
      }
    },
    {
      "cell_type": "code",
      "source": [
        "x_train = train_datagen.flow_from_directory('/content/Dataset Plant Disease/Veg-dataset/Veg-dataset/train_set' ,\n",
        "                                            target_size = (128,128),batch_size = 32, class_mode = 'categorical')\n",
        "x_test = test_datagen.flow_from_directory('/content/Dataset Plant Disease/Veg-dataset/Veg-dataset/test_set' ,\n",
        "                                          target_size = (128,128),batch_size = 32, class_mode = 'categorical' )"
      ],
      "metadata": {
        "id": "ADYSARF-e2aZ"
      },
      "execution_count": null,
      "outputs": []
    },
    {
      "cell_type": "markdown",
      "source": [
        "Found 11386 images belonging to 9 classes.\n",
        "\n",
        "Found 3416 images belonging to 9 classes.\n"
      ],
      "metadata": {
        "id": "sXjzdE2jfXDf"
      }
    },
    {
      "cell_type": "markdown",
      "source": [
        "**Import the libraries**"
      ],
      "metadata": {
        "id": "S9qroRa-fbeP"
      }
    },
    {
      "cell_type": "code",
      "source": [
        "from keras.models import Sequential\n",
        "from keras.layers import Dense\n",
        "from keras.layers import Convolution2D\n",
        "from keras.layers import MaxPooling2D\n",
        "from keras.layers import Flatten"
      ],
      "metadata": {
        "id": "ZzM455QXfhaK"
      },
      "execution_count": null,
      "outputs": []
    },
    {
      "cell_type": "markdown",
      "source": [
        "Initializing the model"
      ],
      "metadata": {
        "id": "eUT03DYzf0A_"
      }
    },
    {
      "cell_type": "code",
      "source": [
        "model=Sequential()"
      ],
      "metadata": {
        "id": "eU00moxNf3MN"
      },
      "execution_count": null,
      "outputs": []
    },
    {
      "cell_type": "markdown",
      "source": [
        "**Add CNN layer**\n",
        "\n",
        "Add convolution layer\n"
      ],
      "metadata": {
        "id": "B9YzkkKqf6hB"
      }
    },
    {
      "cell_type": "code",
      "source": [
        "model.add(Convolution2D(32,(3,3),input_shape = (128,128,3),activation = 'relu'))"
      ],
      "metadata": {
        "id": "ZDLdcqFzgU5P"
      },
      "execution_count": null,
      "outputs": []
    },
    {
      "cell_type": "markdown",
      "source": [
        " Add Pooling layer\n",
        "\n",
        " "
      ],
      "metadata": {
        "id": "jc2fqWMEgY0e"
      }
    },
    {
      "cell_type": "code",
      "source": [
        "model.add(MaxPooling2D(pool_size = (2,2)))\n",
        " "
      ],
      "metadata": {
        "id": "Ry2KUfMhgi12"
      },
      "execution_count": null,
      "outputs": []
    },
    {
      "cell_type": "markdown",
      "source": [
        " \n",
        "Add Dense layer\n",
        " "
      ],
      "metadata": {
        "id": "hmjsiOSngnaA"
      }
    },
    {
      "cell_type": "code",
      "source": [
        "model.add(Dense(300,activation='relu'))\n",
        "model.add(Dense(150,activation='relu'))\n",
        "model.add(Dense(9,activation='softmax'))"
      ],
      "metadata": {
        "id": "wTGy9py_gqm8"
      },
      "execution_count": null,
      "outputs": []
    },
    {
      "cell_type": "markdown",
      "source": [
        "**Train and save the model**\n",
        "\n",
        "Compile the model\n",
        "\n",
        " "
      ],
      "metadata": {
        "id": "-vFKHuQPg1BD"
      }
    },
    {
      "cell_type": "code",
      "source": [
        "model.compile(loss='categorical_crossentropy',optimizer='adam',metrics=['accuracy'])\n",
        " \n",
        " "
      ],
      "metadata": {
        "id": "p80cu8WQg4NQ"
      },
      "execution_count": null,
      "outputs": []
    },
    {
      "cell_type": "markdown",
      "source": [
        " \n",
        "Fix the model\n",
        " "
      ],
      "metadata": {
        "id": "xVrkh-Xbg8xv"
      }
    },
    {
      "cell_type": "code",
      "source": [
        "model.fit(x_train,steps_per_epoch=168,validation_data=x_test,validation_steps=52,epochs=3)\n",
        " "
      ],
      "metadata": {
        "id": "xNzfrZwOhAtR"
      },
      "execution_count": null,
      "outputs": []
    },
    {
      "cell_type": "markdown",
      "source": [
        " \n",
        "Epoch 2/3\n",
        "168/168 [==============================] - 150s 894ms/step - loss: 0.4734 - accuracy: 0.8358 - val_loss: 1741.6771 - val_accuracy: 0.3006\n",
        "Epoch 3/3\n",
        "130/168 [======================>.......] - ETA: 29s - loss: 0.4230 - accuracy: 0.8493\n",
        " "
      ],
      "metadata": {
        "id": "Yi7zwNXZhWNO"
      }
    },
    {
      "cell_type": "markdown",
      "source": [
        " \n",
        "Save the model\n",
        "\n",
        " "
      ],
      "metadata": {
        "id": "BcItAS-1hHKz"
      }
    },
    {
      "cell_type": "code",
      "source": [
        "model.save(\"fruit.h5\")"
      ],
      "metadata": {
        "id": "QkkPeBTChMDQ"
      },
      "execution_count": null,
      "outputs": []
    }
  ]
}
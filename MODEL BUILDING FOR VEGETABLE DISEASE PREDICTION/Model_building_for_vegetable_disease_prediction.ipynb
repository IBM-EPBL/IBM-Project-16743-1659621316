{
  "nbformat": 4,
  "nbformat_minor": 0,
  "metadata": {
    "colab": {
      "provenance": []
    },
    "kernelspec": {
      "name": "python3",
      "display_name": "Python 3"
    },
    "language_info": {
      "name": "python"
    }
  },
  "cells": [
    {
      "cell_type": "code",
      "source": [
        "from google.colab import drive\n",
        "drive.mount('/content/drive')"
      ],
      "metadata": {
        "id": "41SpCK89hKy2"
      },
      "execution_count": null,
      "outputs": []
    },
    {
      "cell_type": "code",
      "source": [
        "!unzip '/content/drive/MyDrive/Colab Notebooks/Dataset.zip'"
      ],
      "metadata": {
        "id": "40Y91ixuhPy4"
      },
      "execution_count": null,
      "outputs": []
    },
    {
      "cell_type": "code",
      "source": [
        "from keras.preprocessing.image import ImageDataGenerator"
      ],
      "metadata": {
        "id": "I9NUmQMhhUMf"
      },
      "execution_count": null,
      "outputs": []
    },
    {
      "cell_type": "code",
      "source": [
        "train_datagen = ImageDataGenerator(rescale = 1./255,shear_range = 0.2,zoom_range = 0.2,horizontal_flip = True)\n",
        "test_datagen =ImageDataGenerator(rescale = 1)"
      ],
      "metadata": {
        "id": "cElyWobbhYwJ"
      },
      "execution_count": null,
      "outputs": []
    },
    {
      "cell_type": "code",
      "source": [
        "x_train = train_datagen.flow_from_directory('/content/Dataset Plant Disease/Veg-dataset/Veg-dataset/train_set' ,\n",
        "                                            target_size = (128,128),batch_size = 32, class_mode = 'categorical')\n",
        "x_test = test_datagen.flow_from_directory('/content/Dataset Plant Disease/Veg-dataset/Veg-dataset/test_set' ,\n",
        "                                          target_size = (128,128),batch_size = 32, class_mode = 'categorical' )"
      ],
      "metadata": {
        "id": "b_1niDhUhecS"
      },
      "execution_count": null,
      "outputs": []
    },
    {
      "cell_type": "markdown",
      "source": [
        "Found 11386 images belonging to 9 classes.\n",
        "\n",
        "Found 3416 images belonging to 9 classes.\n",
        "\n",
        "**Import the libraries**"
      ],
      "metadata": {
        "id": "MdCP4honhkgt"
      }
    },
    {
      "cell_type": "code",
      "source": [
        "from keras.models import Sequential\n",
        "from keras.layers import Dense\n",
        "from keras.layers import Convolution2D\n",
        "from keras.layers import MaxPooling2D\n",
        "from keras.layers import Flatten"
      ],
      "metadata": {
        "id": "DgSfFVExhtdj"
      },
      "execution_count": null,
      "outputs": []
    },
    {
      "cell_type": "markdown",
      "source": [
        "**Initializing the model**"
      ],
      "metadata": {
        "id": "AMM5Ny4ohxsi"
      }
    },
    {
      "cell_type": "code",
      "source": [
        "model=Sequential()"
      ],
      "metadata": {
        "id": "iXJ8Suqqh5tD"
      },
      "execution_count": null,
      "outputs": []
    },
    {
      "cell_type": "markdown",
      "source": [
        "**Add CNN layer**\n",
        "\n",
        "**Add convolution layer**"
      ],
      "metadata": {
        "id": "dCLiqMSviAPf"
      }
    },
    {
      "cell_type": "code",
      "source": [
        "model.add(Convolution2D(32,(3,3),input_shape = (128,128,3),activation = 'relu'))"
      ],
      "metadata": {
        "id": "2sL9xtn-iG2A"
      },
      "execution_count": null,
      "outputs": []
    },
    {
      "cell_type": "markdown",
      "source": [
        "**Add Pooling layer**"
      ],
      "metadata": {
        "id": "Z7TQeKSPiNU3"
      }
    },
    {
      "cell_type": "code",
      "source": [
        "model.add(MaxPooling2D(pool_size = (2,2)))"
      ],
      "metadata": {
        "id": "WpguY8xNiWYj"
      },
      "execution_count": null,
      "outputs": []
    },
    {
      "cell_type": "markdown",
      "source": [
        "**Add Flatten layer**"
      ],
      "metadata": {
        "id": "gbYwOCaDibgq"
      }
    },
    {
      "cell_type": "code",
      "source": [
        "model.add(Flatten())"
      ],
      "metadata": {
        "id": "r3wVSsgGifG7"
      },
      "execution_count": null,
      "outputs": []
    },
    {
      "cell_type": "code",
      "source": [
        "model.summary()"
      ],
      "metadata": {
        "id": "GNTg-vrIiizn"
      },
      "execution_count": null,
      "outputs": []
    },
    {
      "cell_type": "markdown",
      "source": [
        "Model: \"sequential\"\n",
        "_________________________________________________________________\n",
        " Layer (type)                Output Shape              Param #   \n",
        "=================================================================\n",
        " conv2d (Conv2D)             (None, 126, 126, 32)      896       \n",
        "                                                                 \n",
        " max_pooling2d (MaxPooling2D  (None, 63, 63, 32)       0         \n",
        " )                                                               \n",
        "                                                                 \n",
        " flatten (Flatten)           (None, 127008)            0         \n",
        "                                                                 \n",
        " dense (Dense)               (None, 300)               38102700  \n",
        "                                                                 \n",
        " dense_1 (Dense)             (None, 150)               45150     \n",
        "                                                                 \n",
        " dense_2 (Dense)             (None, 9)                 1359      \n",
        "                                                                 \n",
        "=================================================================\n",
        "Total params: 38,150,105\n",
        "Trainable params: 38,150,105\n",
        "Non-trainable params: 0\n",
        "_________________________________________________________________\n",
        "**Add Dense layer**"
      ],
      "metadata": {
        "id": "CsIDFfSaim5E"
      }
    },
    {
      "cell_type": "code",
      "source": [
        "model.add(Dense(300,activation='relu'))\n",
        "model.add(Dense(150,activation='relu'))\n",
        "model.add(Dense(9,activation='softmax'))"
      ],
      "metadata": {
        "id": "z0N5UZUdjB0f"
      },
      "execution_count": null,
      "outputs": []
    },
    {
      "cell_type": "markdown",
      "source": [
        "**Train and save the model**\n",
        "\n",
        "**Compile the model**"
      ],
      "metadata": {
        "id": "UXn1XqbbjHP_"
      }
    },
    {
      "cell_type": "code",
      "source": [
        "model.compile(loss='categorical_crossentropy',optimizer='adam',metrics=['accuracy'])"
      ],
      "metadata": {
        "id": "071s9BZ5jY2O"
      },
      "execution_count": null,
      "outputs": []
    },
    {
      "cell_type": "markdown",
      "source": [
        "**Fix the model**"
      ],
      "metadata": {
        "id": "-pRTeMGgjaRf"
      }
    },
    {
      "cell_type": "code",
      "source": [
        "model.fit(x_train,steps_per_epoch=89,validation_data=x_test,validation_steps=27,epochs=20)"
      ],
      "metadata": {
        "id": "wNmy-6Z1jjLD"
      },
      "execution_count": null,
      "outputs": []
    },
    {
      "cell_type": "markdown",
      "source": [
        "Epoch 1/20\n",
        "89/89 [==============================] - 75s 835ms/step - loss: 0.3780 - accuracy: 0.8744 - val_loss: 1605.5657 - val_accuracy: 0.3472\n",
        "Epoch 2/20\n",
        "89/89 [==============================] - 76s 855ms/step - loss: 0.3961 - accuracy: 0.8648 - val_loss: 2170.4810 - val_accuracy: 0.1817\n",
        "Epoch 3/20\n",
        "89/89 [==============================] - 73s 824ms/step - loss: 0.3687 - accuracy: 0.8669 - val_loss: 1835.6404 - val_accuracy: 0.3032\n",
        "Epoch 4/20\n",
        "89/89 [==============================] - 74s 825ms/step - loss: 0.3291 - accuracy: 0.8897 - val_loss: 1950.2057 - val_accuracy: 0.2917\n",
        "Epoch 5/20\n",
        "89/89 [==============================] - 74s 828ms/step - loss: 0.3324 - accuracy: 0.8761 - val_loss: 2171.5859 - val_accuracy: 0.2315\n",
        "Epoch 6/20\n",
        "89/89 [==============================] - 76s 855ms/step - loss: 0.3167 - accuracy: 0.8887 - val_loss: 2312.2605 - val_accuracy: 0.2523\n",
        "Epoch 7/20\n",
        "89/89 [==============================] - 74s 825ms/step - loss: 0.3258 - accuracy: 0.8845 - val_loss: 1923.3644 - val_accuracy: 0.3067\n",
        "Epoch 8/20\n",
        "89/89 [==============================] - 73s 823ms/step - loss: 0.3200 - accuracy: 0.8876 - val_loss: 1690.9843 - val_accuracy: 0.3009\n",
        "Epoch 9/20\n",
        "89/89 [==============================] - 76s 850ms/step - loss: 0.3045 - accuracy: 0.8919 - val_loss: 2354.1248 - val_accuracy: 0.3183\n",
        "Epoch 10/20\n",
        "89/89 [==============================] - 74s 832ms/step - loss: 0.3056 - accuracy: 0.8989 - val_loss: 2275.9392 - val_accuracy: 0.2975\n",
        "Epoch 11/20\n",
        "89/89 [==============================] - 74s 825ms/step - loss: 0.3004 - accuracy: 0.8920 - val_loss: 1882.0936 - val_accuracy: 0.3831\n",
        "Epoch 12/20\n",
        "89/89 [==============================] - 77s 859ms/step - loss: 0.2695 - accuracy: 0.9038 - val_loss: 2015.9790 - val_accuracy: 0.2616\n",
        "Epoch 13/20\n",
        "89/89 [==============================] - 75s 843ms/step - loss: 0.2928 - accuracy: 0.8940 - val_loss: 2103.8369 - val_accuracy: 0.2975\n",
        "Epoch 14/20\n",
        "89/89 [==============================] - 74s 835ms/step - loss: 0.2457 - accuracy: 0.9101 - val_loss: 1874.9960 - val_accuracy: 0.3021\n",
        "Epoch 15/20\n",
        "89/89 [==============================] - 75s 839ms/step - loss: 0.2565 - accuracy: 0.9108 - val_loss: 2234.6760 - val_accuracy: 0.3102\n",
        "Epoch 16/20\n",
        "89/89 [==============================] - 76s 853ms/step - loss: 0.2581 - accuracy: 0.9089 - val_loss: 2409.8035 - val_accuracy: 0.3322\n",
        "Epoch 17/20\n",
        "89/89 [==============================] - 73s 823ms/step - loss: 0.2643 - accuracy: 0.9091 - val_loss: 2279.3218 - val_accuracy: 0.2731\n",
        "Epoch 18/20\n",
        "89/89 [==============================] - 73s 821ms/step - loss: 0.2539 - accuracy: 0.9101 - val_loss: 2316.0364 - val_accuracy: 0.3345\n",
        "Epoch 19/20\n",
        "89/89 [==============================] - 75s 839ms/step - loss: 0.2801 - accuracy: 0.9091 - val_loss: 2031.9960 - val_accuracy: 0.3252\n",
        "Epoch 20/20\n",
        "89/89 [==============================] - 73s 816ms/step - loss: 0.2092 - accuracy: 0.9192 - val_loss: 2495.3442 - val_accuracy: 0.2940\n",
        "\n",
        "\n",
        "**Save the model**"
      ],
      "metadata": {
        "id": "auEQBApDjkb6"
      }
    },
    {
      "cell_type": "code",
      "source": [
        "model.save(\"vegetable.h5\")"
      ],
      "metadata": {
        "id": "zcAfjFRcj_do"
      },
      "execution_count": null,
      "outputs": []
    }
  ]
}
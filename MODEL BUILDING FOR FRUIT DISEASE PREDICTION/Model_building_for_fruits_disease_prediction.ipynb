{
  "cells": [
    {
      "cell_type": "markdown",
      "source": [
        "**Preprocess the** **Images**"
      ],
      "metadata": {
        "id": "Zga410yvGKbd"
      }
    },
    {
      "cell_type": "code",
      "source": [
        "from tensorflow.keras.preprocessing.image import ImageDataGenerator\n",
        "\n",
        "train_data = ImageDataGenerator(rescale=1./255,\n",
        "                                   zoom_range=0.2, shear_range=0.2,\n",
        "                                   horizontal_flip=True)\n",
        "\n",
        "test_data = ImageDataGenerator(rescale=1)\n",
        "\n",
        "x_test=test_data.flow_from_directory('Dataset Plant Disease/fruit-dataset/fruit-dataset',target_size=(128,128),class_mode='categorical',batch_size=32)\n",
        "\n",
        "x_train=train_data.flow_from_directory('Dataset Plant Disease/fruit-dataset/fruit-dataset',target_size=(128,128),class_mode='categorical',batch_size=32')"
      ],
      "metadata": {
        "id": "F7_5SwSnEl0d"
      },
      "execution_count": null,
      "outputs": []
    },
    {
      "cell_type": "markdown",
      "source": [
        "**Import the Libraries**"
      ],
      "metadata": {
        "id": "Br82RkMfF9Fp"
      }
    },
    {
      "cell_type": "code",
      "source": [
        " from tensorflow.keras.models import Sequential\n",
        "\n",
        "from tensorflow.keras.layers import Convolution2D, MaxPooling2D, Flatten, Dense"
      ],
      "metadata": {
        "id": "J9DIzQZAErcU"
      },
      "execution_count": null,
      "outputs": []
    },
    {
      "cell_type": "markdown",
      "source": [
        "I**nitializing the Model**"
      ],
      "metadata": {
        "id": "o7Ep2NoHFnbf"
      }
    },
    {
      "cell_type": "code",
      "source": [
        " model = Sequential()"
      ],
      "metadata": {
        "id": "G5eyjB--Ex5z"
      },
      "execution_count": null,
      "outputs": []
    },
    {
      "cell_type": "markdown",
      "source": [
        "**Add CNN** **Layers**"
      ],
      "metadata": {
        "id": "vue0itrEGXbX"
      }
    },
    {
      "cell_type": "code",
      "source": [
        "model.add(Convolution2D(42,(4,4),activation='relu',input_shape=(128,128,4)))\n",
        "\n",
        "model.add(MaxPooling2D(pool_size=(2, 2)))\n",
        "\n",
        "model.add(Flatten())"
      ],
      "metadata": {
        "id": "xMw7KKqbE4ZT"
      },
      "execution_count": null,
      "outputs": []
    },
    {
      "cell_type": "markdown",
      "source": [
        "**Add dense layer**"
      ],
      "metadata": {
        "id": "O3NOWKNsGgMF"
      }
    },
    {
      "cell_type": "code",
      "source": [
        "model.add(Dense(output_dim=40,init='uniform',activation='relu'))\n",
        "\n",
        "model.add(Dense(output_dim=20,init='random_uniform',activation='relu'))\n",
        "\n",
        "model.add(Dense(output_dim=6,init='random_uniform',activation='softmax'))"
      ],
      "metadata": {
        "id": "awaZ_iSPFAED"
      },
      "execution_count": null,
      "outputs": []
    },
    {
      "cell_type": "markdown",
      "source": [
        "**Compile the model**"
      ],
      "metadata": {
        "id": "AHJ6oc9QGvlO"
      }
    },
    {
      "cell_type": "code",
      "source": [
        " model.compile(optimizer='adam',loss='categorical_crossentropy',metrics=['accuracy'])"
      ],
      "metadata": {
        "id": "IplENRnnFFCb"
      },
      "execution_count": null,
      "outputs": []
    },
    {
      "cell_type": "markdown",
      "source": [
        "**Fit & save the model**"
      ],
      "metadata": {
        "id": "bFgAuAZZHDz_"
      }
    },
    {
      "cell_type": "code",
      "source": [
        "model.fit_generator(x_train,steps_per_epoch= len(x_train),epochs= 10,validation_data=x_test,validation_steps= len(x_test))\n",
        "\n",
        "model.save('fruit.h5')"
      ],
      "metadata": {
        "id": "4WfXScCkFIQ8"
      },
      "execution_count": null,
      "outputs": []
    }
  ],
  "metadata": {
    "kernelspec": {
      "name": "python3",
      "display_name": "Python 3",
      "language": "python"
    },
    "language_info": {
      "name": "python",
      "version": "3.7.6",
      "mimetype": "text/x-python",
      "codemirror_mode": {
        "name": "ipython",
        "version": 3
      },
      "pygments_lexer": "ipython3",
      "nbconvert_exporter": "python",
      "file_extension": ".py"
    },
    "colab": {
      "provenance": [],
      "collapsed_sections": [
        "Liz5I5pbAZYI",
        "RVpsnyJJAZYK",
        "DgjHJPoeAZYO",
        "INmboYxFAZYP",
        "pACEPlUEAZYW",
        "cNw3wVC4AZYX",
        "tP8Bo1IhAZYa",
        "F-FPDur6AZYd",
        "gB5YangLAZYk"
      ]
    }
  },
  "nbformat": 4,
  "nbformat_minor": 0
}